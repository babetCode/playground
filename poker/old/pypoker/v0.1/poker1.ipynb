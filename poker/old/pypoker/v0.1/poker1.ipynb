{
 "cells": [
  {
   "cell_type": "code",
   "execution_count": null,
   "id": "ede48595",
   "metadata": {},
   "outputs": [
    {
     "data": {
      "text/html": [
       "<span style=\"color: red; font-weight: bold; font-size: 14px; border: 1px solid #ccc; padding: 2px 4px; margin: 1px; background: white; border-radius: 3px;\">Q♥</span><span style=\"color: black; font-weight: bold; font-size: 14px; border: 1px solid #ccc; padding: 2px 4px; margin: 1px; background: white; border-radius: 3px;\">4♠</span>"
      ],
      "text/plain": [
       "<IPython.core.display.HTML object>"
      ]
     },
     "metadata": {},
     "output_type": "display_data"
    },
    {
     "data": {
      "text/html": [
       "<span style=\"color: red; font-weight: bold; font-size: 14px; border: 1px solid #ccc; padding: 2px 4px; margin: 1px; background: white; border-radius: 3px;\">10♦</span><span style=\"color: red; font-weight: bold; font-size: 14px; border: 1px solid #ccc; padding: 2px 4px; margin: 1px; background: white; border-radius: 3px;\">10♥</span>"
      ],
      "text/plain": [
       "<IPython.core.display.HTML object>"
      ]
     },
     "metadata": {},
     "output_type": "display_data"
    },
    {
     "data": {
      "text/html": [
       "<span style=\"color: red; font-weight: bold; font-size: 14px; border: 1px solid #ccc; padding: 2px 4px; margin: 1px; background: white; border-radius: 3px;\">8♥</span><span style=\"color: black; font-weight: bold; font-size: 14px; border: 1px solid #ccc; padding: 2px 4px; margin: 1px; background: white; border-radius: 3px;\">5♣</span>"
      ],
      "text/plain": [
       "<IPython.core.display.HTML object>"
      ]
     },
     "metadata": {},
     "output_type": "display_data"
    },
    {
     "data": {
      "text/html": [
       "<span style=\"color: black; font-weight: bold; font-size: 14px; border: 1px solid #ccc; padding: 2px 4px; margin: 1px; background: white; border-radius: 3px;\">Q♠</span><span style=\"color: red; font-weight: bold; font-size: 14px; border: 1px solid #ccc; padding: 2px 4px; margin: 1px; background: white; border-radius: 3px;\">5♥</span>"
      ],
      "text/plain": [
       "<IPython.core.display.HTML object>"
      ]
     },
     "metadata": {},
     "output_type": "display_data"
    },
    {
     "data": {
      "text/html": [
       "<span style=\"color: red; font-weight: bold; font-size: 14px; border: 1px solid #ccc; padding: 2px 4px; margin: 1px; background: white; border-radius: 3px;\">7♥</span><span style=\"color: black; font-weight: bold; font-size: 14px; border: 1px solid #ccc; padding: 2px 4px; margin: 1px; background: white; border-radius: 3px;\">2♣</span>"
      ],
      "text/plain": [
       "<IPython.core.display.HTML object>"
      ]
     },
     "metadata": {},
     "output_type": "display_data"
    },
    {
     "name": "stdout",
     "output_type": "stream",
     "text": [
      "Table:\n"
     ]
    },
    {
     "data": {
      "text/html": [
       "<span style=\"color: red; font-weight: bold; font-size: 14px; border: 1px solid #ccc; padding: 2px 4px; margin: 1px; background: white; border-radius: 3px;\">A♦</span><span style=\"color: black; font-weight: bold; font-size: 14px; border: 1px solid #ccc; padding: 2px 4px; margin: 1px; background: white; border-radius: 3px;\">7♠</span><span style=\"color: black; font-weight: bold; font-size: 14px; border: 1px solid #ccc; padding: 2px 4px; margin: 1px; background: white; border-radius: 3px;\">K♣</span><span style=\"color: black; font-weight: bold; font-size: 14px; border: 1px solid #ccc; padding: 2px 4px; margin: 1px; background: white; border-radius: 3px;\">7♣</span><span style=\"color: black; font-weight: bold; font-size: 14px; border: 1px solid #ccc; padding: 2px 4px; margin: 1px; background: white; border-radius: 3px;\">10♠</span>"
      ],
      "text/plain": [
       "<IPython.core.display.HTML object>"
      ]
     },
     "metadata": {},
     "output_type": "display_data"
    },
    {
     "data": {
      "text/plain": [
       "'<span style=\"color: red; font-weight: bold; font-size: 14px; border: 1px solid #ccc; padding: 2px 4px; margin: 1px; background: white; border-radius: 3px;\">A♦</span><span style=\"color: black; font-weight: bold; font-size: 14px; border: 1px solid #ccc; padding: 2px 4px; margin: 1px; background: white; border-radius: 3px;\">7♠</span><span style=\"color: black; font-weight: bold; font-size: 14px; border: 1px solid #ccc; padding: 2px 4px; margin: 1px; background: white; border-radius: 3px;\">K♣</span><span style=\"color: black; font-weight: bold; font-size: 14px; border: 1px solid #ccc; padding: 2px 4px; margin: 1px; background: white; border-radius: 3px;\">7♣</span><span style=\"color: black; font-weight: bold; font-size: 14px; border: 1px solid #ccc; padding: 2px 4px; margin: 1px; background: white; border-radius: 3px;\">10♠</span>'"
      ]
     },
     "execution_count": 9,
     "metadata": {},
     "output_type": "execute_result"
    }
   ],
   "source": [
    "import random\n",
    "from IPython.display import HTML, display\n",
    "\n",
    "from itertools import combinations\n",
    "from collections import Counter\n",
    "from typing import List, Tuple\n",
    "\n",
    "class Card:\n",
    "    \"\"\"Represents a playing card with rank and suit.\"\"\"\n",
    "    def __init__(self, rank: int, suit: str):\n",
    "        if rank not in range(2, 15):\n",
    "            raise ValueError(\"Rank must be between 2 and 14\")\n",
    "        if suit not in ['h', 's', 'd', 'c']:\n",
    "            raise ValueError(\"Suit must be 'h', 's', 'd', or 'c'\")\n",
    "        self.rank = rank\n",
    "        self.suit = suit\n",
    "\n",
    "    def __str__(self):\n",
    "        rank_map = {11: 'J', 12: 'Q', 13: 'K', 14: 'A'}\n",
    "        rank_str = rank_map.get(self.rank, str(self.rank))\n",
    "        return f\"{rank_str}{self.suit}\"\n",
    "    \n",
    "    def to_html(self):\n",
    "        \"\"\"Return HTML representation of the card with proper colors\"\"\"\n",
    "\n",
    "        rank_map = {11: 'J', 12: 'Q', 13: 'K', 14: 'A'}\n",
    "        rank_str = rank_map.get(self.rank, str(self.rank))\n",
    "        suit_symbols = {'c': '♣', 'h': '♥', 's': '♠', 'd': '♦'}\n",
    "        suit_colors = {'c': 'black', 'h': 'red', 's': 'black', 'd': 'red'}\n",
    "        \n",
    "        symbol = suit_symbols[self.suit]\n",
    "        color = suit_colors[self.suit]\n",
    "        \n",
    "        return f'<span style=\"color: {color}; font-weight: bold; font-size: 14px; border: 1px solid #ccc; padding: 2px 4px; margin: 1px; background: white; border-radius: 3px;\">{rank_str}{symbol}</span>'\n",
    "\n",
    "\n",
    "class Deck:\n",
    "    \"\"\"A deck of playing cards for poker\"\"\"\n",
    "    \n",
    "    def __init__(self):\n",
    "        \"\"\"Initialize a standard 52-card deck\"\"\"\n",
    "        self.ranks = [n for n in range(2, 15)]\n",
    "        self.suits = ['c', 'h', 's', 'd']  # Clubs, Hearts, Spades, Diamonds\n",
    "        self.reset()\n",
    "    \n",
    "    def reset(self):\n",
    "        \"\"\"Reset the deck to a full 52-card deck\"\"\"\n",
    "        self.cards = [Card(rank, suit) for rank in self.ranks for suit in self.suits]\n",
    "        self.dealt_cards = []\n",
    "    \n",
    "    def shuffle(self):\n",
    "        \"\"\"Shuffle the deck\"\"\"\n",
    "        random.shuffle(self.cards)\n",
    "        return self\n",
    "    \n",
    "    def deal_card(self):\n",
    "        \"\"\"Deal one card from the top of the deck\"\"\"\n",
    "        if not self.cards:\n",
    "            raise ValueError(\"Cannot deal from an empty deck!\")\n",
    "        \n",
    "        card = self.cards.pop()\n",
    "        self.dealt_cards.append(card)\n",
    "        return card\n",
    "    \n",
    "    def deal_hand(self, num_cards=2):\n",
    "        \"\"\"Deal a hand of cards (default 2 for poker)\"\"\"\n",
    "        return [self.deal_card() for _ in range(num_cards)]\n",
    "    \n",
    "    def deal_flop(self):\n",
    "        \"\"\"Deal the flop (3 cards) - burns one card first\"\"\"\n",
    "        self.burn_card()  # Burn a card before the flop\n",
    "        return [self.deal_card() for _ in range(3)]\n",
    "    \n",
    "    def deal_turn(self):\n",
    "        \"\"\"Deal the turn (1 card) - burns one card first\"\"\"\n",
    "        self.burn_card()  # Burn a card before the turn\n",
    "        return self.deal_card()\n",
    "    \n",
    "    def deal_river(self):\n",
    "        \"\"\"Deal the river (1 card) - burns one card first\"\"\"\n",
    "        self.burn_card()  # Burn a card before the river\n",
    "        return self.deal_card()\n",
    "    \n",
    "    def burn_card(self):\n",
    "        \"\"\"Burn (discard) the top card - standard in poker\"\"\"\n",
    "        if self.cards:\n",
    "            burned = self.cards.pop()\n",
    "            self.dealt_cards.append(burned)\n",
    "            return burned\n",
    "        return None\n",
    "    \n",
    "    def cards_remaining(self):\n",
    "        \"\"\"Return number of cards remaining in deck\"\"\"\n",
    "        return len(self.cards)\n",
    "    \n",
    "    def peek_top(self, num=1):\n",
    "        \"\"\"Peek at the top card(s) without dealing them\"\"\"\n",
    "        if num > len(self.cards):\n",
    "            return self.cards[-len(self.cards):]\n",
    "        return self.cards[-num:]\n",
    "    \n",
    "    def __len__(self):\n",
    "        \"\"\"Return number of cards in deck\"\"\"\n",
    "        return len(self.cards)\n",
    "    \n",
    "    def __str__(self):\n",
    "        \"\"\"String representation showing cards remaining\"\"\"\n",
    "        return f\"Deck with {len(self.cards)} cards remaining\"\n",
    "    \n",
    "    def __repr__(self):\n",
    "        \"\"\"Detailed representation\"\"\"\n",
    "        return f\"Deck(cards_remaining={len(self.cards)}, dealt={len(self.dealt_cards)})\"\n",
    "\n",
    "def evaluate_hand(cards: List[Card]) -> Tuple[str, int, List[Card]]:\n",
    "    \"\"\"Evaluates a 5-card hand and returns (hand_type, hand_rank, best_cards).\"\"\"\n",
    "    ranks = sorted([card.rank for card in cards], reverse=True)\n",
    "    suits = [card.suit for card in cards]\n",
    "    rank_counts = Counter(ranks)\n",
    "    suit_counts = Counter(suits)\n",
    "    \n",
    "    is_flush = len(set(suits)) == 1\n",
    "    is_straight = len(set(ranks)) == 5 and (max(ranks) - min(ranks) == 4 or ranks == [14, 5, 4, 3, 2])\n",
    "    \n",
    "    # Royal Flush\n",
    "    if is_flush and ranks == [14, 13, 12, 11, 10]:\n",
    "        return \"Royal Flush\", 10, cards\n",
    "    \n",
    "    # Straight Flush\n",
    "    if is_flush and is_straight:\n",
    "        return \"Straight Flush\", 9, cards\n",
    "    \n",
    "    # Four of a Kind\n",
    "    if 4 in rank_counts.values():\n",
    "        four_rank = next(r for r, c in rank_counts.items() if c == 4)\n",
    "        kicker = max(r for r in ranks if r != four_rank)\n",
    "        return \"Four of a Kind\", 8, [c for c in cards if c.rank == four_rank or c.rank == kicker]\n",
    "    \n",
    "    # Full House\n",
    "    if 3 in rank_counts.values() and 2 in rank_counts.values():\n",
    "        three_rank = next(r for r, c in rank_counts.items() if c == 3)\n",
    "        pair_rank = next(r for r, c in rank_counts.items() if c == 2)\n",
    "        return \"Full House\", 7, [c for c in cards if c.rank in [three_rank, pair_rank]]\n",
    "    \n",
    "    # Flush\n",
    "    if is_flush:\n",
    "        return \"Flush\", 6, cards\n",
    "    \n",
    "    # Straight\n",
    "    if is_straight:\n",
    "        return \"Straight\", 5, cards\n",
    "    \n",
    "    # Three of a Kind\n",
    "    if 3 in rank_counts.values():\n",
    "        three_rank = next(r for r, c in rank_counts.items() if c == 3)\n",
    "        kickers = sorted([r for r in ranks if r != three_rank], reverse=True)[:2]\n",
    "        return \"Three of a Kind\", 4, [c for c in cards if c.rank == three_rank or c.rank in kickers]\n",
    "    \n",
    "    # Two Pair\n",
    "    if list(rank_counts.values()).count(2) >= 2:\n",
    "        pair_ranks = sorted([r for r, c in rank_counts.items() if c == 2], reverse=True)[:2]\n",
    "        kicker = max(r for r in ranks if r not in pair_ranks)\n",
    "        return \"Two Pair\", 3, [c for c in cards if c.rank in pair_ranks or c.rank == kicker]\n",
    "    \n",
    "    # Pair\n",
    "    if 2 in rank_counts.values():\n",
    "        pair_rank = next(r for r, c in rank_counts.items() if c == 2)\n",
    "        kickers = sorted([r for r in ranks if r != pair_rank], reverse=True)[:3]\n",
    "        return \"Pair\", 2, [c for c in cards if c.rank == pair_rank or c.rank in kickers]\n",
    "    \n",
    "    # High Card\n",
    "    return \"High Card\", 1, cards\n",
    "\n",
    "def texas_holdem_score(seven_cards: List[Card]) -> Tuple[str, int, List[Card]]:\n",
    "    \"\"\"Evaluates the best 5-card hand from seven cards and returns (hand_type, hand_rank, best_cards).\"\"\"\n",
    "    if len(seven_cards) != 7:\n",
    "        raise ValueError(\"Exactly seven cards are required\")\n",
    "    \n",
    "    best_score = (None, 0, [], [])\n",
    "    for combo in combinations(seven_cards, 5):\n",
    "        hand_type, hand_rank, best_cards = evaluate_hand(list(combo))\n",
    "        ranks = sorted([c.rank for c in best_cards], reverse=True)\n",
    "        current_score = (hand_type, hand_rank, best_cards, ranks)\n",
    "        if best_score[1] < hand_rank or (best_score[1] == hand_rank and ranks > best_score[3]):\n",
    "            best_score = current_score\n",
    "    \n",
    "    return best_score[0], best_score[1], best_score[2]\n",
    "    \n",
    "def display_cards_html(cards):\n",
    "    html_str = f\"{''.join(card.to_html() for card in cards)}\"\n",
    "    display(HTML(html_str))\n",
    "    return html_str\n",
    "\n",
    "deck = Deck()\n",
    "\n",
    "deck.shuffle()\n",
    "for i in range(5):\n",
    "    hand = deck.deal_hand()\n",
    "    display_cards_html(hand)\n",
    "\n",
    "print(\"Table:\")\n",
    "table = deck.deal_flop()+[deck.deal_turn()]+[deck.deal_river()]\n",
    "display_cards_html(table)"
   ]
  }
 ],
 "metadata": {
  "kernelspec": {
   "display_name": "note_env",
   "language": "python",
   "name": "python3"
  },
  "language_info": {
   "codemirror_mode": {
    "name": "ipython",
    "version": 3
   },
   "file_extension": ".py",
   "mimetype": "text/x-python",
   "name": "python",
   "nbconvert_exporter": "python",
   "pygments_lexer": "ipython3",
   "version": "3.12.7"
  }
 },
 "nbformat": 4,
 "nbformat_minor": 5
}
